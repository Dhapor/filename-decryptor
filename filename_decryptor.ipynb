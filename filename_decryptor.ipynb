{
  "nbformat": 4,
  "nbformat_minor": 0,
  "metadata": {
    "colab": {
      "provenance": [],
      "authorship_tag": "ABX9TyPLia0+QKjyZ+c6XQr1IjZA",
      "include_colab_link": true
    },
    "kernelspec": {
      "name": "python3",
      "display_name": "Python 3"
    },
    "language_info": {
      "name": "python"
    }
  },
  "cells": [
    {
      "cell_type": "markdown",
      "metadata": {
        "id": "view-in-github",
        "colab_type": "text"
      },
      "source": [
        "<a href=\"https://colab.research.google.com/github/Dhapor/filename-decryptor/blob/main/filename_decryptor.ipynb\" target=\"_parent\"><img src=\"https://colab.research.google.com/assets/colab-badge.svg\" alt=\"Open In Colab\"/></a>"
      ]
    },
    {
      "cell_type": "code",
      "execution_count": null,
      "metadata": {
        "id": "dXsLtd3gcD8m"
      },
      "outputs": [],
      "source": [
        "import os\n",
        "\n",
        "def rename():\n",
        "    # get file names from folder\n",
        "    file_list = os.listdir('secret message')\n",
        "\n",
        "    # print file list\n",
        "    print(file_list)\n",
        "\n",
        "    # for each file, rename filename by removing numbers\n",
        "    for filename in file_list:\n",
        "        # Create a translation table to remove digits\n",
        "        filename_without_numbers = filename.translate(str.maketrans('', '', '0123456789'))\n",
        "\n",
        "        # Rename the file\n",
        "        os.rename(os.path.join('secret message', filename), os.path.join('secret message', filename_without_numbers))\n",
        "\n",
        "rename()\n"
      ]
    }
  ]
}
