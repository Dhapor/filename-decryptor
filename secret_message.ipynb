import os

def rename():
    # get file names from folder
    file_list = os.listdir('secret message')

    # print file list
    print(file_list)

    # for each file, rename filename by removing numbers
    for filename in file_list:
        # Create a translation table to remove digits
        filename_without_numbers = filename.translate(str.maketrans('', '', '0123456789'))
        
        # Rename the file
        os.rename(os.path.join('secret message', filename), os.path.join('secret message', filename_without_numbers))

rename()
